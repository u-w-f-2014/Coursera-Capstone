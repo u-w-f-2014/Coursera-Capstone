{
 "cells": [
  {
   "cell_type": "markdown",
   "metadata": {},
   "source": [
    "## INTRODUCTION/BUSINESS PROBLEM"
   ]
  },
  {
   "cell_type": "markdown",
   "metadata": {},
   "source": [
    "The Rock & Roll Hall of Fame is looking for a second location to be the home of their new interactive children's museum concept. The final choice is down to two cities in Tennessee, Memphis, commonly referred to as \"The Birthplace of Rock & Roll,\" and Nashville, \"Music City U.S.A.\" The two cities meet all of the necessary preliminary requirements for selection. Both are historically significant music hotbeds with ample space for new development near their respective downtown/midtown areas.  The selection committee needs to determine what would be the best location for the new \"Exploreum\" model so that customers will have the best experience possible.  "
   ]
  },
  {
   "cell_type": "markdown",
   "metadata": {},
   "source": [
    "## DATA"
   ]
  },
  {
   "cell_type": "markdown",
   "metadata": {},
   "source": [
    "The Hall of Fame directors will base their final decision on the availability of hotels, restaurants, historic monuments, and other family attractions near the preferred downtown locations. Two prospective properties in each city have been chosen for further examination. The site with the most hotels, monuments, and attractions within a three mile radius will be chosen as the new Children's Rock & Roll Exploreum. \n",
    "\n",
    "Both cities will have a set of Foursquare location data that lists all of the available hotels, restaurants, and family entertainment choices near the potential locations. Those sites will be treated as centroids in a K-Nearest Neighbors algorithm. Webs craping will be used to compile lists of music related significant events and historic sites found within each city. The locations with Rock & Roll significance will be given greater preference than those for general music or a different genre. For instance, the Memphis Music Hall of Fame is near the world famous Peabody Hotel, which has three different restaurants within it and is within walking distance of a professional basketball arena and a short drive to Sun Studio. A site near similar cluster of venues would optimize the value of the new project."
   ]
  }
 ],
 "metadata": {
  "kernelspec": {
   "display_name": "Python",
   "language": "python",
   "name": "conda-env-python-py"
  },
  "language_info": {
   "codemirror_mode": {
    "name": "ipython",
    "version": 3
   },
   "file_extension": ".py",
   "mimetype": "text/x-python",
   "name": "python",
   "nbconvert_exporter": "python",
   "pygments_lexer": "ipython3",
   "version": "3.6.7"
  }
 },
 "nbformat": 4,
 "nbformat_minor": 4
}
